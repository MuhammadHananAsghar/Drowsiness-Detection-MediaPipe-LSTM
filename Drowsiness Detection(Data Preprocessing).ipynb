{
 "cells": [
  {
   "cell_type": "code",
   "execution_count": 3,
   "id": "d431eff2",
   "metadata": {},
   "outputs": [],
   "source": [
    "from sklearn.model_selection import train_test_split\n",
    "from tensorflow.keras.utils import to_categorical\n",
    "\n",
    "import numpy as np\n",
    "import os"
   ]
  },
  {
   "cell_type": "code",
   "execution_count": 4,
   "id": "5c07d60e",
   "metadata": {},
   "outputs": [],
   "source": [
    "actions = np.array(['neutral', 'drowsy', 'sleep'])"
   ]
  },
  {
   "cell_type": "code",
   "execution_count": 5,
   "id": "201ab93a",
   "metadata": {},
   "outputs": [],
   "source": [
    "# Path for exported data, numpy arrays\n",
    "DATA_PATH = os.path.join(os.getcwd() ,'Drowsiness Detection') \n",
    "\n",
    "# Thirty videos worth of data\n",
    "no_sequences = 350\n",
    "\n",
    "# Videos are going to be 30 frames in length\n",
    "sequence_length = 5"
   ]
  },
  {
   "cell_type": "code",
   "execution_count": 6,
   "id": "1094e590",
   "metadata": {},
   "outputs": [
    {
     "data": {
      "text/plain": [
       "{'neutral': 0, 'drowsy': 1, 'sleep': 2}"
      ]
     },
     "execution_count": 6,
     "metadata": {},
     "output_type": "execute_result"
    }
   ],
   "source": [
    "label_map = {label:num for num, label in enumerate(actions)}\n",
    "label_map"
   ]
  },
  {
   "cell_type": "code",
   "execution_count": 7,
   "id": "436935d1",
   "metadata": {},
   "outputs": [],
   "source": [
    "sequences, labels = list(), list()\n",
    "for action in actions:\n",
    "    for sequence in range(no_sequences):\n",
    "        res_data = list()\n",
    "        for frame_num in range(sequence_length):\n",
    "            res = os.path.join(DATA_PATH, action, str(sequence), \"{}.npy\".format(frame_num))\n",
    "            __res = np.load(res)\n",
    "            res_data.append(__res)\n",
    "        sequences.append(res_data)\n",
    "        labels.append(label_map[action])"
   ]
  },
  {
   "cell_type": "code",
   "execution_count": 8,
   "id": "d2a1c52e",
   "metadata": {},
   "outputs": [
    {
     "name": "stdout",
     "output_type": "stream",
     "text": [
      "1050\n"
     ]
    }
   ],
   "source": [
    "print(len(sequences))"
   ]
  },
  {
   "cell_type": "code",
   "execution_count": 9,
   "id": "feb19bb2",
   "metadata": {},
   "outputs": [],
   "source": [
    "lb = to_categorical(labels).astype(int)"
   ]
  },
  {
   "cell_type": "code",
   "execution_count": 10,
   "id": "aa8d1118",
   "metadata": {},
   "outputs": [
    {
     "data": {
      "text/plain": [
       "array([[1, 0, 0],\n",
       "       [1, 0, 0],\n",
       "       [1, 0, 0],\n",
       "       ...,\n",
       "       [0, 0, 1],\n",
       "       [0, 0, 1],\n",
       "       [0, 0, 1]])"
      ]
     },
     "execution_count": 10,
     "metadata": {},
     "output_type": "execute_result"
    }
   ],
   "source": [
    "lb"
   ]
  },
  {
   "cell_type": "code",
   "execution_count": 11,
   "id": "adee2658",
   "metadata": {},
   "outputs": [],
   "source": [
    "sequences = np.array(sequences)\n",
    "labls = np.array(lb)"
   ]
  },
  {
   "cell_type": "code",
   "execution_count": 12,
   "id": "3db06db7",
   "metadata": {},
   "outputs": [
    {
     "data": {
      "text/plain": [
       "(1050, 5, 1404)"
      ]
     },
     "execution_count": 12,
     "metadata": {},
     "output_type": "execute_result"
    }
   ],
   "source": [
    "sequences.shape"
   ]
  },
  {
   "cell_type": "code",
   "execution_count": 13,
   "id": "c200e38f",
   "metadata": {},
   "outputs": [],
   "source": [
    "x_train, x_test, y_train, y_test = train_test_split(sequences, labls, test_size=0.08)"
   ]
  },
  {
   "cell_type": "code",
   "execution_count": 14,
   "id": "1a8c4407",
   "metadata": {},
   "outputs": [
    {
     "data": {
      "text/plain": [
       "((966, 5, 1404), (84, 5, 1404))"
      ]
     },
     "execution_count": 14,
     "metadata": {},
     "output_type": "execute_result"
    }
   ],
   "source": [
    "x_train.shape, x_test.shape"
   ]
  },
  {
   "cell_type": "code",
   "execution_count": 15,
   "id": "810019e2",
   "metadata": {},
   "outputs": [],
   "source": [
    "np.save(\"x_train\", x_train)\n",
    "np.save(\"x_test\", x_test)\n",
    "np.save(\"y_train\", y_train)\n",
    "np.save(\"y_test\", y_test)"
   ]
  },
  {
   "cell_type": "code",
   "execution_count": null,
   "id": "9ae58c11",
   "metadata": {},
   "outputs": [],
   "source": []
  }
 ],
 "metadata": {
  "kernelspec": {
   "display_name": "Python 3 (ipykernel)",
   "language": "python",
   "name": "python3"
  },
  "language_info": {
   "codemirror_mode": {
    "name": "ipython",
    "version": 3
   },
   "file_extension": ".py",
   "mimetype": "text/x-python",
   "name": "python",
   "nbconvert_exporter": "python",
   "pygments_lexer": "ipython3",
   "version": "3.9.7"
  }
 },
 "nbformat": 4,
 "nbformat_minor": 5
}
