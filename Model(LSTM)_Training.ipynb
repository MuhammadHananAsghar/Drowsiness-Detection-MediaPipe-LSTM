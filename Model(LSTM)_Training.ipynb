{
  "nbformat": 4,
  "nbformat_minor": 0,
  "metadata": {
    "colab": {
      "name": "Model(LSTM) Training.ipynb",
      "provenance": []
    },
    "kernelspec": {
      "name": "python3",
      "display_name": "Python 3"
    },
    "language_info": {
      "name": "python"
    },
    "accelerator": "GPU"
  },
  "cells": [
    {
      "cell_type": "code",
      "execution_count": 1,
      "metadata": {
        "colab": {
          "base_uri": "https://localhost:8080/"
        },
        "id": "UsFv7IVla7hC",
        "outputId": "b95c0a93-463a-4910-9bf7-23dedcd9b190"
      },
      "outputs": [
        {
          "output_type": "stream",
          "name": "stdout",
          "text": [
            "Fri Mar  4 14:54:12 2022       \n",
            "+-----------------------------------------------------------------------------+\n",
            "| NVIDIA-SMI 460.32.03    Driver Version: 460.32.03    CUDA Version: 11.2     |\n",
            "|-------------------------------+----------------------+----------------------+\n",
            "| GPU  Name        Persistence-M| Bus-Id        Disp.A | Volatile Uncorr. ECC |\n",
            "| Fan  Temp  Perf  Pwr:Usage/Cap|         Memory-Usage | GPU-Util  Compute M. |\n",
            "|                               |                      |               MIG M. |\n",
            "|===============================+======================+======================|\n",
            "|   0  Tesla K80           Off  | 00000000:00:04.0 Off |                    0 |\n",
            "| N/A   31C    P8    27W / 149W |      0MiB / 11441MiB |      0%      Default |\n",
            "|                               |                      |                  N/A |\n",
            "+-------------------------------+----------------------+----------------------+\n",
            "                                                                               \n",
            "+-----------------------------------------------------------------------------+\n",
            "| Processes:                                                                  |\n",
            "|  GPU   GI   CI        PID   Type   Process name                  GPU Memory |\n",
            "|        ID   ID                                                   Usage      |\n",
            "|=============================================================================|\n",
            "|  No running processes found                                                 |\n",
            "+-----------------------------------------------------------------------------+\n"
          ]
        }
      ],
      "source": [
        "!nvidia-smi"
      ]
    },
    {
      "cell_type": "code",
      "source": [
        "import numpy as np\n",
        "import os"
      ],
      "metadata": {
        "id": "k3gOY59nbGBY"
      },
      "execution_count": 2,
      "outputs": []
    },
    {
      "cell_type": "code",
      "source": [
        "x_train = np.load(os.path.join(os.getcwd(), \"x_train.npy\"))\n",
        "y_train = np.load(os.path.join(os.getcwd(), \"y_train.npy\"))\n",
        "x_test = np.load(os.path.join(os.getcwd(), \"x_test.npy\"))\n",
        "y_test = np.load(os.path.join(os.getcwd(), \"y_test.npy\"))"
      ],
      "metadata": {
        "id": "WZbC9X_mbOwQ"
      },
      "execution_count": 3,
      "outputs": []
    },
    {
      "cell_type": "code",
      "source": [
        "x_train.shape"
      ],
      "metadata": {
        "colab": {
          "base_uri": "https://localhost:8080/"
        },
        "id": "o3W-IthQdjVH",
        "outputId": "184cb039-5155-4a09-f748-60a8de2dae17"
      },
      "execution_count": 4,
      "outputs": [
        {
          "output_type": "execute_result",
          "data": {
            "text/plain": [
              "(966, 5, 1404)"
            ]
          },
          "metadata": {},
          "execution_count": 4
        }
      ]
    },
    {
      "cell_type": "markdown",
      "source": [
        "#Model"
      ],
      "metadata": {
        "id": "kBxaqYSAdmCJ"
      }
    },
    {
      "cell_type": "code",
      "source": [
        "import tensorflow as tf"
      ],
      "metadata": {
        "id": "aJqSDpuJdjZu"
      },
      "execution_count": 6,
      "outputs": []
    },
    {
      "cell_type": "code",
      "source": [
        "inp_shape = x_train.shape[1:]\n",
        "print(inp_shape)"
      ],
      "metadata": {
        "colab": {
          "base_uri": "https://localhost:8080/"
        },
        "id": "dXZ5jmGXdjgG",
        "outputId": "dd4ded4e-748c-4cd7-99cd-7edc697569af"
      },
      "execution_count": 7,
      "outputs": [
        {
          "output_type": "stream",
          "name": "stdout",
          "text": [
            "(5, 1404)\n"
          ]
        }
      ]
    },
    {
      "cell_type": "code",
      "source": [
        "out_shape = y_train.shape[-1]\n",
        "out_shape"
      ],
      "metadata": {
        "colab": {
          "base_uri": "https://localhost:8080/"
        },
        "id": "PqOUvhK9dq5s",
        "outputId": "e639d715-d9c0-4c11-93cb-cbe82b22d651"
      },
      "execution_count": 8,
      "outputs": [
        {
          "output_type": "execute_result",
          "data": {
            "text/plain": [
              "3"
            ]
          },
          "metadata": {},
          "execution_count": 8
        }
      ]
    },
    {
      "cell_type": "code",
      "source": [
        "model = tf.keras.models.Sequential()\n",
        "\n",
        "model.add(tf.keras.layers.LSTM(units=128, return_sequences=True, activation=\"relu\", kernel_initializer=\"he_uniform\", input_shape=inp_shape))\n",
        "model.add(tf.keras.layers.Dropout(rate=0.2))\n",
        "\n",
        "model.add(tf.keras.layers.LSTM(units=128, return_sequences=True, kernel_initializer=\"he_uniform\", activation=\"relu\"))\n",
        "model.add(tf.keras.layers.Dropout(rate=0.2))\n",
        "\n",
        "model.add(tf.keras.layers.LSTM(units=128, return_sequences=False, kernel_initializer=\"he_uniform\", activation=\"relu\"))\n",
        "model.add(tf.keras.layers.Dropout(rate=0.2))\n",
        "\n",
        "model.add(tf.keras.layers.Dense(units=128, activation=\"relu\"))\n",
        "model.add(tf.keras.layers.Dropout(rate=0.2))\n",
        "\n",
        "model.add(tf.keras.layers.Dense(units=64, activation=\"relu\"))\n",
        "model.add(tf.keras.layers.Dense(units=out_shape, activation=\"softmax\"))"
      ],
      "metadata": {
        "colab": {
          "base_uri": "https://localhost:8080/"
        },
        "id": "6PkJvAB9dtML",
        "outputId": "46b8b4fe-ba02-46a7-8fe4-1de3fd205956"
      },
      "execution_count": 9,
      "outputs": [
        {
          "output_type": "stream",
          "name": "stdout",
          "text": [
            "WARNING:tensorflow:Layer lstm will not use cuDNN kernels since it doesn't meet the criteria. It will use a generic GPU kernel as fallback when running on GPU.\n",
            "WARNING:tensorflow:Layer lstm_1 will not use cuDNN kernels since it doesn't meet the criteria. It will use a generic GPU kernel as fallback when running on GPU.\n",
            "WARNING:tensorflow:Layer lstm_2 will not use cuDNN kernels since it doesn't meet the criteria. It will use a generic GPU kernel as fallback when running on GPU.\n"
          ]
        }
      ]
    },
    {
      "cell_type": "code",
      "source": [
        "model.summary()"
      ],
      "metadata": {
        "colab": {
          "base_uri": "https://localhost:8080/"
        },
        "id": "z0pkUap_d1tp",
        "outputId": "2318ca6d-b3fe-49c6-81ae-3093c8aa2e18"
      },
      "execution_count": 15,
      "outputs": [
        {
          "output_type": "stream",
          "name": "stdout",
          "text": [
            "Model: \"sequential\"\n",
            "_________________________________________________________________\n",
            " Layer (type)                Output Shape              Param #   \n",
            "=================================================================\n",
            " lstm (LSTM)                 (None, 5, 128)            784896    \n",
            "                                                                 \n",
            " dropout (Dropout)           (None, 5, 128)            0         \n",
            "                                                                 \n",
            " lstm_1 (LSTM)               (None, 5, 128)            131584    \n",
            "                                                                 \n",
            " dropout_1 (Dropout)         (None, 5, 128)            0         \n",
            "                                                                 \n",
            " lstm_2 (LSTM)               (None, 128)               131584    \n",
            "                                                                 \n",
            " dropout_2 (Dropout)         (None, 128)               0         \n",
            "                                                                 \n",
            " dense (Dense)               (None, 128)               16512     \n",
            "                                                                 \n",
            " dropout_3 (Dropout)         (None, 128)               0         \n",
            "                                                                 \n",
            " dense_1 (Dense)             (None, 64)                8256      \n",
            "                                                                 \n",
            " dense_2 (Dense)             (None, 3)                 195       \n",
            "                                                                 \n",
            "=================================================================\n",
            "Total params: 1,073,027\n",
            "Trainable params: 1,073,027\n",
            "Non-trainable params: 0\n",
            "_________________________________________________________________\n"
          ]
        }
      ]
    },
    {
      "cell_type": "code",
      "source": [
        "checkpoint = tf.keras.callbacks.ModelCheckpoint(\"model.h5\",\n",
        "                             monitor=\"loss\",\n",
        "                             mode=\"min\",\n",
        "                             save_best_only=True,\n",
        "                             verbose = 1)\n",
        "\n",
        "earlystop = tf.keras.callbacks.EarlyStopping(monitor=\"loss\",\n",
        "                         min_delta=0,\n",
        "                         patience=8,\n",
        "                         verbose=1,\n",
        "                         restore_best_weights=True)"
      ],
      "metadata": {
        "id": "FVTmrP4Gd4FY"
      },
      "execution_count": 16,
      "outputs": []
    },
    {
      "cell_type": "code",
      "source": [
        "log_dir = os.path.join('Logs')\n",
        "tb_callback = tf.keras.callbacks.TensorBoard(log_dir=log_dir)"
      ],
      "metadata": {
        "id": "elC62RrRd7XJ"
      },
      "execution_count": 17,
      "outputs": []
    },
    {
      "cell_type": "code",
      "source": [
        "model.compile(optimizer='Adam', loss='categorical_crossentropy', metrics=['accuracy'])"
      ],
      "metadata": {
        "id": "Uto2ljhXd85M"
      },
      "execution_count": 18,
      "outputs": []
    },
    {
      "cell_type": "code",
      "source": [
        "history = model.fit(x_train, y_train,\n",
        "          validation_data=(x_test, y_test),\n",
        "          epochs=100, \n",
        "          callbacks=[tb_callback, earlystop, checkpoint])"
      ],
      "metadata": {
        "colab": {
          "base_uri": "https://localhost:8080/"
        },
        "id": "4EfZDtZKd-id",
        "outputId": "78640d70-0328-4bdb-dfb8-d124a3694a6c"
      },
      "execution_count": 19,
      "outputs": [
        {
          "output_type": "stream",
          "name": "stdout",
          "text": [
            "Epoch 1/100\n",
            "31/31 [==============================] - ETA: 0s - loss: 0.5421 - accuracy: 0.8012\n",
            "Epoch 1: loss improved from inf to 0.54214, saving model to model.h5\n",
            "31/31 [==============================] - 6s 75ms/step - loss: 0.5421 - accuracy: 0.8012 - val_loss: 0.2465 - val_accuracy: 0.9524\n",
            "Epoch 2/100\n",
            "31/31 [==============================] - ETA: 0s - loss: 0.3312 - accuracy: 0.8975\n",
            "Epoch 2: loss improved from 0.54214 to 0.33121, saving model to model.h5\n",
            "31/31 [==============================] - 2s 56ms/step - loss: 0.3312 - accuracy: 0.8975 - val_loss: 0.2962 - val_accuracy: 0.8690\n",
            "Epoch 3/100\n",
            "30/31 [============================>.] - ETA: 0s - loss: 0.3292 - accuracy: 0.8844\n",
            "Epoch 3: loss improved from 0.33121 to 0.32776, saving model to model.h5\n",
            "31/31 [==============================] - 2s 53ms/step - loss: 0.3278 - accuracy: 0.8851 - val_loss: 0.1626 - val_accuracy: 0.9524\n",
            "Epoch 4/100\n",
            "30/31 [============================>.] - ETA: 0s - loss: 0.3161 - accuracy: 0.9010\n",
            "Epoch 4: loss improved from 0.32776 to 0.31466, saving model to model.h5\n",
            "31/31 [==============================] - 2s 56ms/step - loss: 0.3147 - accuracy: 0.9017 - val_loss: 0.2312 - val_accuracy: 0.9762\n",
            "Epoch 5/100\n",
            "31/31 [==============================] - ETA: 0s - loss: 0.3225 - accuracy: 0.8975\n",
            "Epoch 5: loss did not improve from 0.31466\n",
            "31/31 [==============================] - 2s 52ms/step - loss: 0.3225 - accuracy: 0.8975 - val_loss: 0.1979 - val_accuracy: 0.9643\n",
            "Epoch 6/100\n",
            "31/31 [==============================] - ETA: 0s - loss: 0.3160 - accuracy: 0.8975\n",
            "Epoch 6: loss did not improve from 0.31466\n",
            "31/31 [==============================] - 2s 52ms/step - loss: 0.3160 - accuracy: 0.8975 - val_loss: 0.1568 - val_accuracy: 0.9643\n",
            "Epoch 7/100\n",
            "31/31 [==============================] - ETA: 0s - loss: 0.3081 - accuracy: 0.9037\n",
            "Epoch 7: loss improved from 0.31466 to 0.30812, saving model to model.h5\n",
            "31/31 [==============================] - 2s 55ms/step - loss: 0.3081 - accuracy: 0.9037 - val_loss: 0.1772 - val_accuracy: 0.9643\n",
            "Epoch 8/100\n",
            "30/31 [============================>.] - ETA: 0s - loss: 0.2914 - accuracy: 0.9094\n",
            "Epoch 8: loss improved from 0.30812 to 0.28962, saving model to model.h5\n",
            "31/31 [==============================] - 2s 54ms/step - loss: 0.2896 - accuracy: 0.9099 - val_loss: 0.1694 - val_accuracy: 0.9643\n",
            "Epoch 9/100\n",
            "31/31 [==============================] - ETA: 0s - loss: 0.3160 - accuracy: 0.8996\n",
            "Epoch 9: loss did not improve from 0.28962\n",
            "31/31 [==============================] - 2s 51ms/step - loss: 0.3160 - accuracy: 0.8996 - val_loss: 0.1535 - val_accuracy: 0.9762\n",
            "Epoch 10/100\n",
            "31/31 [==============================] - ETA: 0s - loss: 0.2921 - accuracy: 0.9130\n",
            "Epoch 10: loss did not improve from 0.28962\n",
            "31/31 [==============================] - 2s 52ms/step - loss: 0.2921 - accuracy: 0.9130 - val_loss: 0.1643 - val_accuracy: 0.9643\n",
            "Epoch 11/100\n",
            "31/31 [==============================] - ETA: 0s - loss: 0.3471 - accuracy: 0.8830\n",
            "Epoch 11: loss did not improve from 0.28962\n",
            "31/31 [==============================] - 2s 51ms/step - loss: 0.3471 - accuracy: 0.8830 - val_loss: 0.1537 - val_accuracy: 0.9762\n",
            "Epoch 12/100\n",
            "31/31 [==============================] - ETA: 0s - loss: 0.2609 - accuracy: 0.9255\n",
            "Epoch 12: loss improved from 0.28962 to 0.26088, saving model to model.h5\n",
            "31/31 [==============================] - 2s 56ms/step - loss: 0.2609 - accuracy: 0.9255 - val_loss: 0.1032 - val_accuracy: 0.9762\n",
            "Epoch 13/100\n",
            "30/31 [============================>.] - ETA: 0s - loss: 0.3404 - accuracy: 0.8958\n",
            "Epoch 13: loss did not improve from 0.26088\n",
            "31/31 [==============================] - 2s 51ms/step - loss: 0.3416 - accuracy: 0.8954 - val_loss: 0.1615 - val_accuracy: 0.9881\n",
            "Epoch 14/100\n",
            "31/31 [==============================] - ETA: 0s - loss: 0.2660 - accuracy: 0.9224\n",
            "Epoch 14: loss did not improve from 0.26088\n",
            "31/31 [==============================] - 2s 49ms/step - loss: 0.2660 - accuracy: 0.9224 - val_loss: 0.1828 - val_accuracy: 0.9643\n",
            "Epoch 15/100\n",
            "31/31 [==============================] - ETA: 0s - loss: 0.2720 - accuracy: 0.9120\n",
            "Epoch 15: loss did not improve from 0.26088\n",
            "31/31 [==============================] - 2s 53ms/step - loss: 0.2720 - accuracy: 0.9120 - val_loss: 0.1833 - val_accuracy: 0.9524\n",
            "Epoch 16/100\n",
            "30/31 [============================>.] - ETA: 0s - loss: 0.2574 - accuracy: 0.9177\n",
            "Epoch 16: loss improved from 0.26088 to 0.25597, saving model to model.h5\n",
            "31/31 [==============================] - 2s 56ms/step - loss: 0.2560 - accuracy: 0.9182 - val_loss: 0.4080 - val_accuracy: 0.8452\n",
            "Epoch 17/100\n",
            "30/31 [============================>.] - ETA: 0s - loss: 0.3125 - accuracy: 0.8958\n",
            "Epoch 17: loss did not improve from 0.25597\n",
            "31/31 [==============================] - 2s 53ms/step - loss: 0.3110 - accuracy: 0.8965 - val_loss: 0.1348 - val_accuracy: 0.9881\n",
            "Epoch 18/100\n",
            "31/31 [==============================] - ETA: 0s - loss: 0.2554 - accuracy: 0.9203\n",
            "Epoch 18: loss improved from 0.25597 to 0.25540, saving model to model.h5\n",
            "31/31 [==============================] - 2s 55ms/step - loss: 0.2554 - accuracy: 0.9203 - val_loss: 0.1153 - val_accuracy: 0.9762\n",
            "Epoch 19/100\n",
            "30/31 [============================>.] - ETA: 0s - loss: 0.2336 - accuracy: 0.9260\n",
            "Epoch 19: loss improved from 0.25540 to 0.23294, saving model to model.h5\n",
            "31/31 [==============================] - 2s 55ms/step - loss: 0.2329 - accuracy: 0.9265 - val_loss: 0.1238 - val_accuracy: 0.9762\n",
            "Epoch 20/100\n",
            "31/31 [==============================] - ETA: 0s - loss: 0.2856 - accuracy: 0.9130\n",
            "Epoch 20: loss did not improve from 0.23294\n",
            "31/31 [==============================] - 2s 52ms/step - loss: 0.2856 - accuracy: 0.9130 - val_loss: 0.1328 - val_accuracy: 0.9881\n",
            "Epoch 21/100\n",
            "31/31 [==============================] - ETA: 0s - loss: 0.2256 - accuracy: 0.9317\n",
            "Epoch 21: loss improved from 0.23294 to 0.22562, saving model to model.h5\n",
            "31/31 [==============================] - 2s 55ms/step - loss: 0.2256 - accuracy: 0.9317 - val_loss: 0.0891 - val_accuracy: 0.9881\n",
            "Epoch 22/100\n",
            "31/31 [==============================] - ETA: 0s - loss: 0.2345 - accuracy: 0.9286\n",
            "Epoch 22: loss did not improve from 0.22562\n",
            "31/31 [==============================] - 2s 50ms/step - loss: 0.2345 - accuracy: 0.9286 - val_loss: 0.0892 - val_accuracy: 0.9762\n",
            "Epoch 23/100\n",
            "31/31 [==============================] - ETA: 0s - loss: 0.2226 - accuracy: 0.9327\n",
            "Epoch 23: loss improved from 0.22562 to 0.22260, saving model to model.h5\n",
            "31/31 [==============================] - 2s 55ms/step - loss: 0.2226 - accuracy: 0.9327 - val_loss: 0.1603 - val_accuracy: 0.9643\n",
            "Epoch 24/100\n",
            "31/31 [==============================] - ETA: 0s - loss: 0.2339 - accuracy: 0.9255\n",
            "Epoch 24: loss did not improve from 0.22260\n",
            "31/31 [==============================] - 2s 57ms/step - loss: 0.2339 - accuracy: 0.9255 - val_loss: 0.1144 - val_accuracy: 0.9762\n",
            "Epoch 25/100\n",
            "31/31 [==============================] - ETA: 0s - loss: 0.2438 - accuracy: 0.9213\n",
            "Epoch 25: loss did not improve from 0.22260\n",
            "31/31 [==============================] - 2s 53ms/step - loss: 0.2438 - accuracy: 0.9213 - val_loss: 0.0701 - val_accuracy: 0.9881\n",
            "Epoch 26/100\n",
            "31/31 [==============================] - ETA: 0s - loss: 0.2340 - accuracy: 0.9296\n",
            "Epoch 26: loss did not improve from 0.22260\n",
            "31/31 [==============================] - 2s 53ms/step - loss: 0.2340 - accuracy: 0.9296 - val_loss: 0.0977 - val_accuracy: 0.9881\n",
            "Epoch 27/100\n",
            "31/31 [==============================] - ETA: 0s - loss: 0.2420 - accuracy: 0.9172\n",
            "Epoch 27: loss did not improve from 0.22260\n",
            "31/31 [==============================] - 2s 53ms/step - loss: 0.2420 - accuracy: 0.9172 - val_loss: 0.1786 - val_accuracy: 0.9286\n",
            "Epoch 28/100\n",
            "31/31 [==============================] - ETA: 0s - loss: 0.2560 - accuracy: 0.9141\n",
            "Epoch 28: loss did not improve from 0.22260\n",
            "31/31 [==============================] - 2s 54ms/step - loss: 0.2560 - accuracy: 0.9141 - val_loss: 0.0845 - val_accuracy: 0.9881\n",
            "Epoch 29/100\n",
            "30/31 [============================>.] - ETA: 0s - loss: 0.2212 - accuracy: 0.9354\n",
            "Epoch 29: loss improved from 0.22260 to 0.22005, saving model to model.h5\n",
            "31/31 [==============================] - 2s 56ms/step - loss: 0.2201 - accuracy: 0.9358 - val_loss: 0.0768 - val_accuracy: 0.9881\n",
            "Epoch 30/100\n",
            "31/31 [==============================] - ETA: 0s - loss: 0.2288 - accuracy: 0.9348\n",
            "Epoch 30: loss did not improve from 0.22005\n",
            "31/31 [==============================] - 2s 53ms/step - loss: 0.2288 - accuracy: 0.9348 - val_loss: 0.1116 - val_accuracy: 0.9762\n",
            "Epoch 31/100\n",
            "31/31 [==============================] - ETA: 0s - loss: 0.2236 - accuracy: 0.9358\n",
            "Epoch 31: loss did not improve from 0.22005\n",
            "31/31 [==============================] - 2s 51ms/step - loss: 0.2236 - accuracy: 0.9358 - val_loss: 0.1127 - val_accuracy: 0.9762\n",
            "Epoch 32/100\n",
            "31/31 [==============================] - ETA: 0s - loss: 0.2319 - accuracy: 0.9275\n",
            "Epoch 32: loss did not improve from 0.22005\n",
            "31/31 [==============================] - 2s 54ms/step - loss: 0.2319 - accuracy: 0.9275 - val_loss: 0.0786 - val_accuracy: 0.9881\n",
            "Epoch 33/100\n",
            "30/31 [============================>.] - ETA: 0s - loss: 0.3157 - accuracy: 0.8885\n",
            "Epoch 33: loss did not improve from 0.22005\n",
            "31/31 [==============================] - 2s 51ms/step - loss: 0.3159 - accuracy: 0.8882 - val_loss: 0.1225 - val_accuracy: 0.9762\n",
            "Epoch 34/100\n",
            "31/31 [==============================] - ETA: 0s - loss: 0.2902 - accuracy: 0.9079\n",
            "Epoch 34: loss did not improve from 0.22005\n",
            "31/31 [==============================] - 2s 52ms/step - loss: 0.2902 - accuracy: 0.9079 - val_loss: 0.0836 - val_accuracy: 0.9881\n",
            "Epoch 35/100\n",
            "31/31 [==============================] - ETA: 0s - loss: 0.2411 - accuracy: 0.9244\n",
            "Epoch 35: loss did not improve from 0.22005\n",
            "31/31 [==============================] - 2s 50ms/step - loss: 0.2411 - accuracy: 0.9244 - val_loss: 0.0757 - val_accuracy: 0.9762\n",
            "Epoch 36/100\n",
            "30/31 [============================>.] - ETA: 0s - loss: 0.1968 - accuracy: 0.9438\n",
            "Epoch 36: loss improved from 0.22005 to 0.19571, saving model to model.h5\n",
            "31/31 [==============================] - 2s 56ms/step - loss: 0.1957 - accuracy: 0.9441 - val_loss: 0.0687 - val_accuracy: 0.9881\n",
            "Epoch 37/100\n",
            "31/31 [==============================] - ETA: 0s - loss: 0.2033 - accuracy: 0.9358\n",
            "Epoch 37: loss did not improve from 0.19571\n",
            "31/31 [==============================] - 2s 53ms/step - loss: 0.2033 - accuracy: 0.9358 - val_loss: 0.0673 - val_accuracy: 0.9881\n",
            "Epoch 38/100\n",
            "30/31 [============================>.] - ETA: 0s - loss: 0.2141 - accuracy: 0.9323\n",
            "Epoch 38: loss did not improve from 0.19571\n",
            "31/31 [==============================] - 2s 52ms/step - loss: 0.2134 - accuracy: 0.9327 - val_loss: 0.0893 - val_accuracy: 0.9881\n",
            "Epoch 39/100\n",
            "31/31 [==============================] - ETA: 0s - loss: 0.2204 - accuracy: 0.9286\n",
            "Epoch 39: loss did not improve from 0.19571\n",
            "31/31 [==============================] - 2s 54ms/step - loss: 0.2204 - accuracy: 0.9286 - val_loss: 0.0803 - val_accuracy: 0.9762\n",
            "Epoch 40/100\n",
            "31/31 [==============================] - ETA: 0s - loss: 0.2081 - accuracy: 0.9400\n",
            "Epoch 40: loss did not improve from 0.19571\n",
            "31/31 [==============================] - 2s 51ms/step - loss: 0.2081 - accuracy: 0.9400 - val_loss: 0.0645 - val_accuracy: 1.0000\n",
            "Epoch 41/100\n",
            "31/31 [==============================] - ETA: 0s - loss: 0.2079 - accuracy: 0.9400\n",
            "Epoch 41: loss did not improve from 0.19571\n",
            "31/31 [==============================] - 2s 51ms/step - loss: 0.2079 - accuracy: 0.9400 - val_loss: 0.0647 - val_accuracy: 0.9881\n",
            "Epoch 42/100\n",
            "31/31 [==============================] - ETA: 0s - loss: 0.2311 - accuracy: 0.9244\n",
            "Epoch 42: loss did not improve from 0.19571\n",
            "31/31 [==============================] - 2s 54ms/step - loss: 0.2311 - accuracy: 0.9244 - val_loss: 0.2107 - val_accuracy: 0.9286\n",
            "Epoch 43/100\n",
            "30/31 [============================>.] - ETA: 0s - loss: 0.2151 - accuracy: 0.9365\n",
            "Epoch 43: loss did not improve from 0.19571\n",
            "31/31 [==============================] - 2s 52ms/step - loss: 0.2139 - accuracy: 0.9369 - val_loss: 0.2051 - val_accuracy: 0.8810\n",
            "Epoch 44/100\n",
            "30/31 [============================>.] - ETA: 0s - loss: 0.2081 - accuracy: 0.9438Restoring model weights from the end of the best epoch: 36.\n",
            "\n",
            "Epoch 44: loss did not improve from 0.19571\n",
            "31/31 [==============================] - 2s 53ms/step - loss: 0.2076 - accuracy: 0.9441 - val_loss: 0.2370 - val_accuracy: 0.9286\n",
            "Epoch 44: early stopping\n"
          ]
        }
      ]
    },
    {
      "cell_type": "code",
      "source": [
        "import pandas as pd\n",
        "import matplotlib.pyplot as plt\n",
        "\n",
        "pd.DataFrame(history.history).plot(figsize=(8, 5))\n",
        "plt.grid(True)\n",
        "plt.gca().set_ylim(0, 1)\n",
        "plt.show()"
      ],
      "metadata": {
        "colab": {
          "base_uri": "https://localhost:8080/",
          "height": 324
        },
        "id": "kjEsnQZyeBC3",
        "outputId": "a3e9ce29-8153-4b58-edfc-7b7bc66f767b"
      },
      "execution_count": 20,
      "outputs": [
        {
          "output_type": "display_data",
          "data": {
            "image/png": "[encoded data removed]",
            "text/plain": [
              "<Figure size 576x360 with 1 Axes>"
            ]
          },
          "metadata": {
            "needs_background": "light"
          }
        }
      ]
    },
    {
      "cell_type": "code",
      "source": [
        "import tensorflow as tf\n",
        "\n",
        "lstm = tf.keras.models.load_model(\"model.h5\")"
      ],
      "metadata": {
        "colab": {
          "base_uri": "https://localhost:8080/"
        },
        "id": "QL9zWiJiepPo",
        "outputId": "90fe0b13-a9e7-496d-d9a2-d9537e856c4d"
      },
      "execution_count": 21,
      "outputs": [
        {
          "output_type": "stream",
          "name": "stdout",
          "text": [
            "WARNING:tensorflow:Layer lstm will not use cuDNN kernels since it doesn't meet the criteria. It will use a generic GPU kernel as fallback when running on GPU.\n",
            "WARNING:tensorflow:Layer lstm_1 will not use cuDNN kernels since it doesn't meet the criteria. It will use a generic GPU kernel as fallback when running on GPU.\n",
            "WARNING:tensorflow:Layer lstm_2 will not use cuDNN kernels since it doesn't meet the criteria. It will use a generic GPU kernel as fallback when running on GPU.\n"
          ]
        }
      ]
    },
    {
      "cell_type": "code",
      "source": [
        "res = lstm.predict(x_test)"
      ],
      "metadata": {
        "id": "FatDQsNTes14"
      },
      "execution_count": 22,
      "outputs": []
    },
    {
      "cell_type": "code",
      "source": [
        "actions = np.array(['neutral', 'drowsy', 'sleep'])"
      ],
      "metadata": {
        "id": "b9h8Gjwje2Mt"
      },
      "execution_count": 24,
      "outputs": []
    },
    {
      "cell_type": "code",
      "source": [
        "for idx in range(8):\n",
        "  print(actions[np.argmax(y_test[idx])], actions[np.argmax(res[idx])])"
      ],
      "metadata": {
        "colab": {
          "base_uri": "https://localhost:8080/"
        },
        "id": "VZyTmdi_eufm",
        "outputId": "62e522e2-d767-459b-9b4d-e6188b5af480"
      },
      "execution_count": 25,
      "outputs": [
        {
          "output_type": "stream",
          "name": "stdout",
          "text": [
            "neutral neutral\n",
            "sleep sleep\n",
            "sleep sleep\n",
            "neutral neutral\n",
            "drowsy drowsy\n",
            "drowsy neutral\n",
            "drowsy drowsy\n",
            "drowsy drowsy\n"
          ]
        }
      ]
    },
    {
      "cell_type": "code",
      "source": [
        "from sklearn.metrics import multilabel_confusion_matrix, accuracy_score\n",
        "yhat = lstm.predict(x_test)\n",
        "\n",
        "ytrue = np.argmax(y_test, axis=1).tolist()\n",
        "yhat = np.argmax(yhat, axis=1).tolist()"
      ],
      "metadata": {
        "id": "bJgRQBmNewt5"
      },
      "execution_count": 26,
      "outputs": []
    },
    {
      "cell_type": "code",
      "source": [
        "accuracy_score(ytrue, yhat)"
      ],
      "metadata": {
        "colab": {
          "base_uri": "https://localhost:8080/"
        },
        "id": "4PfeN-QMe7N3",
        "outputId": "e36a0bf7-aa6c-4630-949a-c42e7c7c4d9e"
      },
      "execution_count": 27,
      "outputs": [
        {
          "output_type": "execute_result",
          "data": {
            "text/plain": [
              "0.9880952380952381"
            ]
          },
          "metadata": {},
          "execution_count": 27
        }
      ]
    },
    {
      "cell_type": "code",
      "source": [
        "import tensorflow as tf\n",
        "\n",
        "model =tf.keras.models.load_model(\"model.h5\")\n",
        "\n",
        "converter = tf.lite.TFLiteConverter.from_keras_model(model)\n",
        "converter.optimizations = [tf.lite.Optimize.DEFAULT]\n",
        "converter.experimental_new_converter = True\n",
        "converter.target_spec.supported_ops = [tf.lite.OpsSet.TFLITE_BUILTINS, tf.lite.OpsSet.SELECT_TF_OPS]\n",
        "tflite_model = converter.convert()\n",
        "open(\"model.tflite\", \"wb\").write(tflite_model)"
      ],
      "metadata": {
        "colab": {
          "base_uri": "https://localhost:8080/"
        },
        "id": "goxUMDCye85l",
        "outputId": "0e496e93-d0ea-4e16-9118-2dc8e5829feb"
      },
      "execution_count": 28,
      "outputs": [
        {
          "output_type": "stream",
          "name": "stdout",
          "text": [
            "WARNING:tensorflow:Layer lstm will not use cuDNN kernels since it doesn't meet the criteria. It will use a generic GPU kernel as fallback when running on GPU.\n",
            "WARNING:tensorflow:Layer lstm_1 will not use cuDNN kernels since it doesn't meet the criteria. It will use a generic GPU kernel as fallback when running on GPU.\n",
            "WARNING:tensorflow:Layer lstm_2 will not use cuDNN kernels since it doesn't meet the criteria. It will use a generic GPU kernel as fallback when running on GPU.\n",
            "INFO:tensorflow:Assets written to: /tmp/tmpbxxwc0rc/assets\n"
          ]
        },
        {
          "output_type": "stream",
          "name": "stderr",
          "text": [
            "WARNING:absl:Buffer deduplication procedure will be skipped when flatbuffer library is not properly loaded\n"
          ]
        },
        {
          "output_type": "execute_result",
          "data": {
            "text/plain": [
              "1112896"
            ]
          },
          "metadata": {},
          "execution_count": 28
        }
      ]
    },
    {
      "cell_type": "code",
      "source": [
        ""
      ],
      "metadata": {
        "id": "f6DBeDGOfCEF"
      },
      "execution_count": null,
      "outputs": []
    }
  ]
}