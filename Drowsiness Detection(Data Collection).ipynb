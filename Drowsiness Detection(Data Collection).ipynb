{
 "cells": [
  {
   "cell_type": "code",
   "execution_count": 2,
   "id": "beb334aa",
   "metadata": {},
   "outputs": [],
   "source": [
    "import mediapipe as mp\n",
    "import cv2\n",
    "import numpy as np\n",
    "import os"
   ]
  },
  {
   "cell_type": "code",
   "execution_count": 11,
   "id": "d8da45e4",
   "metadata": {},
   "outputs": [],
   "source": [
    "def extract_keypoints(results):\n",
    "    '''\n",
    "    Extract Face Keypoints\n",
    "    '''\n",
    "    face_keypoints = np.array([[res.x, res.y, res.z] for res in results.multi_face_landmarks[0].landmark]).flatten() if results.multi_face_landmarks else np.zeros(468*3)\n",
    "    return face_keypoints"
   ]
  },
  {
   "cell_type": "code",
   "execution_count": 15,
   "id": "f28d9ba0",
   "metadata": {},
   "outputs": [],
   "source": [
    "mp_face_mesh = mp.solutions.face_mesh\n",
    "face_mesh = mp_face_mesh.FaceMesh(\n",
    "max_num_faces=1,\n",
    "min_detection_confidence=0.3,\n",
    "min_tracking_confidence=0.8\n",
    ")\n",
    "\n",
    "mp_drawing = mp.solutions.drawing_utils \n",
    "drawing_spec = mp_drawing.DrawingSpec(thickness=1, circle_radius=1)"
   ]
  },
  {
   "cell_type": "code",
   "execution_count": 13,
   "id": "1199acde",
   "metadata": {},
   "outputs": [],
   "source": [
    "cap = cv2.VideoCapture(0)\n",
    "\n",
    "counter = 0\n",
    "drowsiness = \"\"\n",
    "status = \"\"\n",
    "\n",
    "while cap.isOpened():\n",
    "    ret, frame = cap.read()\n",
    "    image = cv2.flip(frame, 1)\n",
    "    img_h, img_w, channels = frame.shape\n",
    "    \n",
    "    rgb_frame = cv2.cvtColor(image, cv2.COLOR_BGR2RGB)\n",
    "    img_h, img_w = frame.shape[:2]\n",
    "    rgb_frame.flags.writeable = False\n",
    "    results = face_mesh.process(rgb_frame)\n",
    "    rgb_frame.flags.writeable = True\n",
    "    \n",
    "    if results.multi_face_landmarks:\n",
    "        for face_landmarks in results.multi_face_landmarks:\n",
    "            mp_drawing.draw_landmarks(\n",
    "                    image=image,\n",
    "                    landmark_list = face_landmarks,\n",
    "                    connections = mp_face_mesh.FACEMESH_TESSELATION,\n",
    "                    landmark_drawing_spec = drawing_spec,\n",
    "                    connection_drawing_spec = drawing_spec)\n",
    "    \n",
    "    \n",
    "    cv2.imshow(\"Feed\", image)\n",
    "    \n",
    "    if cv2.waitKey(1) & 0xFF == ord(\"q\"):\n",
    "        break\n",
    "\n",
    "cap.release()\n",
    "cv2.destroyAllWindows()"
   ]
  },
  {
   "cell_type": "code",
   "execution_count": 6,
   "id": "892eb3b1",
   "metadata": {},
   "outputs": [],
   "source": [
    "cap.release()\n",
    "cv2.destroyAllWindows()"
   ]
  },
  {
   "cell_type": "code",
   "execution_count": 14,
   "id": "0d84a355",
   "metadata": {},
   "outputs": [
    {
     "data": {
      "text/plain": [
       "array([ 0.45648155,  0.66380548, -0.03342569, ...,  0.5769732 ,\n",
       "        0.47035497,  0.00589202])"
      ]
     },
     "execution_count": 14,
     "metadata": {},
     "output_type": "execute_result"
    }
   ],
   "source": [
    "extract_keypoints(results)"
   ]
  },
  {
   "cell_type": "code",
   "execution_count": 49,
   "id": "e1649211",
   "metadata": {},
   "outputs": [],
   "source": [
    "!rm -rf \"Drowsiness Detection\"\n",
    "!mkdir \"Drowsiness Detection\""
   ]
  },
  {
   "cell_type": "code",
   "execution_count": 50,
   "id": "61075471",
   "metadata": {},
   "outputs": [],
   "source": [
    "import os"
   ]
  },
  {
   "cell_type": "code",
   "execution_count": 62,
   "id": "078e9308",
   "metadata": {},
   "outputs": [],
   "source": [
    "# Path for exported data, numpy arrays\n",
    "DATA_PATH = os.path.join(os.getcwd() ,'Drowsiness Detection') \n",
    "\n",
    "# Actions that we try to detect\n",
    "# actions = np.array(['neutral', 'drowsy', 'sleep'])\n",
    "actions = np.array(['drowsy'])\n",
    "\n",
    "# Thirty videos worth of data\n",
    "no_sequences = 350\n",
    "\n",
    "# Videos are going to be 30 frames in length\n",
    "sequence_length = 5"
   ]
  },
  {
   "cell_type": "code",
   "execution_count": 63,
   "id": "b75b94b0",
   "metadata": {},
   "outputs": [
    {
     "data": {
      "text/plain": [
       "array(['drowsy'], dtype='<U6')"
      ]
     },
     "execution_count": 63,
     "metadata": {},
     "output_type": "execute_result"
    }
   ],
   "source": [
    "actions"
   ]
  },
  {
   "cell_type": "code",
   "execution_count": 59,
   "id": "ef8893af",
   "metadata": {},
   "outputs": [],
   "source": [
    "for action in actions: \n",
    "    for sequence in range(no_sequences):\n",
    "        try: \n",
    "            os.makedirs(os.path.join(DATA_PATH, action, str(sequence)))\n",
    "        except:\n",
    "            pass"
   ]
  },
  {
   "cell_type": "code",
   "execution_count": null,
   "id": "9ab07e20",
   "metadata": {},
   "outputs": [],
   "source": [
    "stream = cv2.VideoCapture(0)\n",
    "\n",
    "for action in actions:\n",
    "    for sequence in range(no_sequences):\n",
    "        for frame_num in range(sequence_length):\n",
    "            ret, frame = stream.read()\n",
    "            image = cv2.flip(frame, 1)\n",
    "\n",
    "            rgb_frame = cv2.cvtColor(image, cv2.COLOR_BGR2RGB)\n",
    "            rgb_frame.flags.writeable = False\n",
    "            results = face_mesh.process(rgb_frame)\n",
    "            rgb_frame.flags.writeable = True\n",
    "\n",
    "            if results.multi_face_landmarks:\n",
    "                for face_landmarks in results.multi_face_landmarks:\n",
    "                    mp_drawing.draw_landmarks(\n",
    "                            image=image,\n",
    "                            landmark_list = face_landmarks,\n",
    "                            connections = mp_face_mesh.FACEMESH_TESSELATION,\n",
    "                            landmark_drawing_spec = drawing_spec,\n",
    "                            connection_drawing_spec = drawing_spec)\n",
    "            \n",
    "            if frame_num == 0:\n",
    "                cv2.putText(image, 'STARTING COLLECTION', (120,200), \n",
    "                               cv2.FONT_HERSHEY_SIMPLEX, 1, (0,255, 0), 4, cv2.LINE_AA)\n",
    "                cv2.putText(image, 'Collecting frames for {} Video Number {}'.format(action, sequence), (15,12), \n",
    "                               cv2.FONT_HERSHEY_SIMPLEX, 0.5, (0, 0, 255), 1, cv2.LINE_AA)\n",
    "                # Show to screen\n",
    "                cv2.imshow('Data Collection', image)\n",
    "            else:\n",
    "                cv2.putText(image, 'Collecting frames for {} Video Number {}'.format(action, sequence), (15,12), \n",
    "                               cv2.FONT_HERSHEY_SIMPLEX, 0.5, (0, 0, 255), 1, cv2.LINE_AA)\n",
    "                # Show to screen\n",
    "                cv2.imshow('Data Collection', image)\n",
    "                \n",
    "            # NEW Export keypoints\n",
    "            keypoints = extract_keypoints(results)\n",
    "            npy_path = os.path.join(DATA_PATH, action, str(sequence), str(frame_num))\n",
    "            np.save(npy_path, keypoints)\n",
    "            \n",
    "            if cv2.waitKey(1) & 0xFF == ord('q'):\n",
    "                break\n",
    "\n",
    "    stream.release()\n",
    "    cv2.destroyAllWindows()"
   ]
  },
  {
   "cell_type": "code",
   "execution_count": 42,
   "id": "bcddc61a",
   "metadata": {},
   "outputs": [],
   "source": [
    "stream.release()\n",
    "cv2.destroyAllWindows()"
   ]
  },
  {
   "cell_type": "code",
   "execution_count": null,
   "id": "bc346165",
   "metadata": {},
   "outputs": [],
   "source": []
  }
 ],
 "metadata": {
  "kernelspec": {
   "display_name": "Python 3 (ipykernel)",
   "language": "python",
   "name": "python3"
  },
  "language_info": {
   "codemirror_mode": {
    "name": "ipython",
    "version": 3
   },
   "file_extension": ".py",
   "mimetype": "text/x-python",
   "name": "python",
   "nbconvert_exporter": "python",
   "pygments_lexer": "ipython3",
   "version": "3.9.7"
  }
 },
 "nbformat": 4,
 "nbformat_minor": 5
}
